{
 "cells": [
  {
   "cell_type": "markdown",
   "metadata": {},
   "source": [
    "Blood glucose levels for obese patients have a mean of 100 with a standard deviation of 15. A researcher thinks that a diet high in raw cornstarch will have a positive effect on blood glucose levels. A sample of 36 patients who have tried the raw cornstarch diet have a mean glucose level of 108. Test the hypothesis that the raw cornstarch had an effect or not."
   ]
  },
  {
   "cell_type": "markdown",
   "metadata": {},
   "source": [
    "Hypothesis:\n",
    "\n",
    "H0: m=100 There is no difference between sample and population\n",
    "\n",
    "H1: m>100 There is a difference between sample and population. "
   ]
  },
  {
   "cell_type": "code",
   "execution_count": 1,
   "metadata": {},
   "outputs": [],
   "source": [
    "import scipy.stats as st\n",
    "import math"
   ]
  },
  {
   "cell_type": "code",
   "execution_count": 2,
   "metadata": {},
   "outputs": [],
   "source": [
    "import math\n",
    "#x is the sample mean\n",
    "x=108\n",
    "#m is the population mean\n",
    "m=100\n",
    "#s is the standard deviation of the sample\n",
    "s=(15/math.sqrt(36))\n"
   ]
  },
  {
   "cell_type": "code",
   "execution_count": 3,
   "metadata": {},
   "outputs": [],
   "source": [
    "def prob(x,m,s):\n",
    "    #x is the sample mean\n",
    "    #m is the population mean\n",
    "    #s is the standard deviation\n",
    "    \n",
    "    #first step is to find Z-score\n",
    "    z=(x-m)/s\n",
    "    prob = st.norm.cdf(z)\n",
    "    return prob"
   ]
  },
  {
   "cell_type": "code",
   "execution_count": 4,
   "metadata": {},
   "outputs": [],
   "source": [
    "p=1-prob(x,m,s)"
   ]
  },
  {
   "cell_type": "code",
   "execution_count": 10,
   "metadata": {},
   "outputs": [
    {
     "name": "stdout",
     "output_type": "stream",
     "text": [
      "Reject Null Hypothesis, and Accept Alternative Hypothesis. \n",
      " There is a positive effect on blood glucose by incorporating raw cornstarch in the diet\n"
     ]
    }
   ],
   "source": [
    "if p < .05:\n",
    "    print('Reject Null Hypothesis, and Accept Alternative Hypothesis. \\n There is a positive effect on blood glucose by incorporating raw cornstarch in the diet')\n",
    "    \n",
    "else:\n",
    "    print('Accept Null Hypothesis')"
   ]
  },
  {
   "cell_type": "code",
   "execution_count": null,
   "metadata": {},
   "outputs": [],
   "source": []
  }
 ],
 "metadata": {
  "kernelspec": {
   "display_name": "Python 3",
   "language": "python",
   "name": "python3"
  },
  "language_info": {
   "codemirror_mode": {
    "name": "ipython",
    "version": 3
   },
   "file_extension": ".py",
   "mimetype": "text/x-python",
   "name": "python",
   "nbconvert_exporter": "python",
   "pygments_lexer": "ipython3",
   "version": "3.6.4"
  }
 },
 "nbformat": 4,
 "nbformat_minor": 2
}
